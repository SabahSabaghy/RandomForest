{
 "cells": [
  {
   "cell_type": "markdown",
   "metadata": {},
   "source": [
    "# <font color='blue'> Random forest classification model </font>"
   ]
  },
  {
   "cell_type": "markdown",
   "metadata": {},
   "source": [
    "## Read input data, including ground truth data and images"
   ]
  },
  {
   "cell_type": "code",
   "execution_count": null,
   "metadata": {},
   "outputs": [],
   "source": [
    "# Import GDAL, NumPy, and matplotlib\n",
    "from osgeo import gdal, gdal_array\n",
    "import numpy as np\n",
    "import matplotlib.pyplot as plt\n",
    "%matplotlib inline\n",
    "\n",
    "# Tell GDAL to throw Python exceptions, and register all drivers\n",
    "gdal.UseExceptions()\n",
    "gdal.AllRegister()\n",
    "\n",
    "# Read in the image and ground data recalled as roi\n",
    "img_ds = gdal.Open(r\"path\", gdal.GA_ReadOnly)\n",
    "roi_ds = gdal.Open(r\"path\", gdal.GA_ReadOnly)\n",
    "\n",
    "# gdal_array to read raster data as numeric array from file\n",
    "img = np.zeros((img_ds.RasterYSize, img_ds.RasterXSize, img_ds.RasterCount),\n",
    "              gdal_array.GDALTypeCodeToNumericTypeCode(img_ds.GetRasterBand(1).DataType)) \n",
    "\n",
    "for b in range (img.shape[2]):\n",
    "    img[:, :, b] = img_ds.GetRasterBand(b+1).ReadAsArray()\n",
    "\n",
    "roi = roi_ds.GetRasterBand(1).ReadAsArray().astype(np.int16)\n",
    "\n",
    "\n",
    "# Display one band of image and ground truth (roi) data\n",
    "plt.subplot(121)\n",
    "plt.imshow(img[:, :, -2], cmap=plt.cm.Greys_r, vmin=-2000, vmax=10000) # vmin and vmax is defined based on your data\n",
    "plt.title('Input Data')\n",
    "\n",
    "plt.subplot(122)\n",
    "plt.imshow(roi, cmap=plt.cm.Spectral)\n",
    "plt.title(\"Ground Truth Data\")\n",
    "\n",
    "plt.show()"
   ]
  },
  {
   "cell_type": "markdown",
   "metadata": {},
   "source": [
    "## Using Skicit-learn to split ground truth and image data into training and testing sets\n"
   ]
  },
  {
   "cell_type": "code",
   "execution_count": null,
   "metadata": {},
   "outputs": [],
   "source": [
    "from sklearn.model_selection import train_test_split\n",
    "\n",
    "# Find how many valid entries are in the roi data -- i.e. how many ground truth data samples? in this data zero entries refer\n",
    "# to non-valid enteries. \n",
    "n_samples = (roi > 0).sum()\n",
    "print('There are {n} samples'.format(n=n_samples))\n",
    "\n",
    "# What are the classification targets? i.e. classvalue 1 refers to irrigated areas and classvalue 627 refers to irrigated pixels \n",
    "targets = np.unique(roi[roi > 0])\n",
    "print('The training data include {n} classes: {classes}'.format(n=targets.size, \n",
    "                                                                classes=targets))\n",
    "\n",
    "# features : used to make predictions (e.g. the image inputs (img_ds))\n",
    "# labels :  to be predicted (e.g. roi ground truth data)\n",
    "features = img[roi > 0, :]  # include all bands\n",
    "labels = roi[roi > 0]\n",
    "\n",
    "# Split the data into training and testing sets\n",
    "# train_test_split: Allowed inputs are lists, numpy arrays, scipy-sparse matrices or pandas dataframes.\n",
    "train_features, test_features, train_labels, test_labels = train_test_split(features, labels, test_size = 0.3, random_state = 42)\n",
    "\n",
    "\n",
    "# Make sure the split of data is correct\n",
    "print('Training Features Shape:', train_features.shape)\n",
    "print('Training Labels Shape:', train_labels.shape)\n",
    "print('Testing Features Shape:', test_features.shape)\n",
    "print('Testing Labels Shape:', test_labels.shape)"
   ]
  }
 ],
 "metadata": {
  "kernelspec": {
   "display_name": "Python 3",
   "language": "python",
   "name": "python3"
  },
  "language_info": {
   "codemirror_mode": {
    "name": "ipython",
    "version": 3
   },
   "file_extension": ".py",
   "mimetype": "text/x-python",
   "name": "python",
   "nbconvert_exporter": "python",
   "pygments_lexer": "ipython3",
   "version": "3.7.9"
  }
 },
 "nbformat": 4,
 "nbformat_minor": 4
}
